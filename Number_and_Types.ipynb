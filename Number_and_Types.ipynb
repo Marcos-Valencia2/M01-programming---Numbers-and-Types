{
 "cells": [
  {
   "cell_type": "code",
   "execution_count": 3,
   "metadata": {},
   "outputs": [
    {
     "name": "stdout",
     "output_type": "stream",
     "text": [
      "3600\n",
      "86400\n",
      "24.0\n",
      "24\n"
     ]
    }
   ],
   "source": [
    "secs = 60\n",
    "mins = 60\n",
    "seconds_per_hour = mins*secs\n",
    "print(seconds_per_hour)\n",
    "\n",
    "seconds_per_day = seconds_per_hour * 24\n",
    "print(seconds_per_day)\n",
    "print(seconds_per_day/seconds_per_hour)\n",
    "print(seconds_per_day//seconds_per_hour)\n",
    "\n",
    "# The value did not change when using different division operators aside from the .0"
   ]
  }
 ],
 "metadata": {
  "kernelspec": {
   "display_name": "Python 3.11.0 64-bit",
   "language": "python",
   "name": "python3"
  },
  "language_info": {
   "codemirror_mode": {
    "name": "ipython",
    "version": 3
   },
   "file_extension": ".py",
   "mimetype": "text/x-python",
   "name": "python",
   "nbconvert_exporter": "python",
   "pygments_lexer": "ipython3",
   "version": "3.11.0"
  },
  "orig_nbformat": 4,
  "vscode": {
   "interpreter": {
    "hash": "a310808a487f96380254cddf6b9a295481d7b0e55376e373a445edf9dcc97cac"
   }
  }
 },
 "nbformat": 4,
 "nbformat_minor": 2
}
